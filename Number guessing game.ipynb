{
 "cells": [
  {
   "cell_type": "code",
   "execution_count": 6,
   "id": "8df3a39d",
   "metadata": {},
   "outputs": [
    {
     "name": "stdout",
     "output_type": "stream",
     "text": [
      "Input guess:9\n",
      "too high\n"
     ]
    }
   ],
   "source": [
    "#assign value to secret\n",
    "secret = 6\n",
    "\n",
    "#have user input a guess\n",
    "guess = int(input('Input guess:'))\n",
    "\n",
    "#if user guess is higher than secret, tell user that their guess is too high\n",
    "if guess > secret:\n",
    "    print('Too high')\n",
    "    \n",
    "#if user guess isn't higher and is instead lower, then tell user that their guess is too low\n",
    "elif guess < secret:\n",
    "    print('Too low')\n",
    "    \n",
    "#if user's guess isn't too high or too low, tell the user that their guess is correct\n",
    "else:\n",
    "    print('Correct')"
   ]
  }
 ],
 "metadata": {
  "kernelspec": {
   "display_name": "Python 3 (ipykernel)",
   "language": "python",
   "name": "python3"
  },
  "language_info": {
   "codemirror_mode": {
    "name": "ipython",
    "version": 3
   },
   "file_extension": ".py",
   "mimetype": "text/x-python",
   "name": "python",
   "nbconvert_exporter": "python",
   "pygments_lexer": "ipython3",
   "version": "3.11.5"
  }
 },
 "nbformat": 4,
 "nbformat_minor": 5
}
