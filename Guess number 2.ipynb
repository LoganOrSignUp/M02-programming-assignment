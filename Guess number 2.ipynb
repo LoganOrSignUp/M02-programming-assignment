{
 "cells": [
  {
   "cell_type": "code",
   "execution_count": 4,
   "id": "6398a9c5",
   "metadata": {
    "scrolled": true
   },
   "outputs": [
    {
     "name": "stdout",
     "output_type": "stream",
     "text": [
      "0 is too low\n",
      "1 is too low\n",
      "2 is too low\n",
      "3 is too low\n",
      "4 is too low\n",
      "5 is correct\n"
     ]
    }
   ],
   "source": [
    "#number to be guessed is set to 5\n",
    "guess_me = 5\n",
    "\n",
    "#for loop where number guessed is in a range of 10\n",
    "for number in range(10):\n",
    "    #if the guessed number is lower than correct number, print that it is too low\n",
    "    if number < guess_me:\n",
    "        print(number,\"is too low\")\n",
    "    #if the guessed number equal to the correct number, print that it is correct\n",
    "    elif number == guess_me:\n",
    "        print(number,\"is correct\")\n",
    "        break\n",
    "    #if the guessed number is higher than the correct number, print that it is too high\n",
    "    elif number > guess_me:\n",
    "        print(\"oops,\",number,'is too high')\n",
    "        break"
   ]
  }
 ],
 "metadata": {
  "kernelspec": {
   "display_name": "Python 3 (ipykernel)",
   "language": "python",
   "name": "python3"
  },
  "language_info": {
   "codemirror_mode": {
    "name": "ipython",
    "version": 3
   },
   "file_extension": ".py",
   "mimetype": "text/x-python",
   "name": "python",
   "nbconvert_exporter": "python",
   "pygments_lexer": "ipython3",
   "version": "3.11.5"
  }
 },
 "nbformat": 4,
 "nbformat_minor": 5
}
