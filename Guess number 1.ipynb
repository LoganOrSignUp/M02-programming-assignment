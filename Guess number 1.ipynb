{
 "cells": [
  {
   "cell_type": "code",
   "execution_count": 17,
   "id": "3b0512c8",
   "metadata": {},
   "outputs": [
    {
     "name": "stdout",
     "output_type": "stream",
     "text": [
      "1 is too low\n",
      "2 is too low\n",
      "3 is too low\n",
      "4 is too low\n",
      "5 is too low\n",
      "6 is too low\n",
      "7 is correct\n"
     ]
    }
   ],
   "source": [
    "#number to guess\n",
    "guess_me = 7\n",
    "#number that's guessed\n",
    "number = 1\n",
    "\n",
    "#guessing loop\n",
    "while True:\n",
    "    #if guessed number is too low, print that it is too low\n",
    "    if number < guess_me:\n",
    "        print(number,\"is too low\")\n",
    "    #if guessed number is equal to the correct number, print that it is correct\n",
    "    elif number == guess_me:\n",
    "        print(number, \"is correct\")\n",
    "        break\n",
    "    #if number is to high, print that it is too high\n",
    "    elif number > guess_me:\n",
    "        print(\"oops,\",number, \"is too high\")\n",
    "        break\n",
    "    number = number + 1"
   ]
  },
  {
   "cell_type": "code",
   "execution_count": null,
   "id": "79f58855",
   "metadata": {},
   "outputs": [],
   "source": []
  }
 ],
 "metadata": {
  "kernelspec": {
   "display_name": "Python 3 (ipykernel)",
   "language": "python",
   "name": "python3"
  },
  "language_info": {
   "codemirror_mode": {
    "name": "ipython",
    "version": 3
   },
   "file_extension": ".py",
   "mimetype": "text/x-python",
   "name": "python",
   "nbconvert_exporter": "python",
   "pygments_lexer": "ipython3",
   "version": "3.11.5"
  }
 },
 "nbformat": 4,
 "nbformat_minor": 5
}
