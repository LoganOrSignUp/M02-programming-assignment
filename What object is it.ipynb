{
 "cells": [
  {
   "cell_type": "code",
   "execution_count": 3,
   "id": "bc476891",
   "metadata": {},
   "outputs": [
    {
     "name": "stdout",
     "output_type": "stream",
     "text": [
      "Variables match a pumpkin\n"
     ]
    }
   ],
   "source": [
    "#assigns true/false to variables\n",
    "green = False\n",
    "small = False\n",
    "\n",
    "#if small is true, find which small object matches best, a pea or a cherry\n",
    "if small:\n",
    "    #if green is true, the object is a pea\n",
    "    if green:\n",
    "        print(\"The object is a pea\")\n",
    "    #if green is false, the object is a cherry\n",
    "    else:\n",
    "        print(\"The object is a cherry\")\n",
    "#if small is false, find which large object matches best, a watermelon or a pumpkin\n",
    "else:\n",
    "    #if green is true, the object is a watermelon\n",
    "    if green:\n",
    "        print(\"The object is a watermelon\")\n",
    "    #if green is false, the object is a pumpkin\n",
    "    else:\n",
    "        print(\"The object is a pumpkin\")"
   ]
  }
 ],
 "metadata": {
  "kernelspec": {
   "display_name": "Python 3 (ipykernel)",
   "language": "python",
   "name": "python3"
  },
  "language_info": {
   "codemirror_mode": {
    "name": "ipython",
    "version": 3
   },
   "file_extension": ".py",
   "mimetype": "text/x-python",
   "name": "python",
   "nbconvert_exporter": "python",
   "pygments_lexer": "ipython3",
   "version": "3.11.5"
  }
 },
 "nbformat": 4,
 "nbformat_minor": 5
}
